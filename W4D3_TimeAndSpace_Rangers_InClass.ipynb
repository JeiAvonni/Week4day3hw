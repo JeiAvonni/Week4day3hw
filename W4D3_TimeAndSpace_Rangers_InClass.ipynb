{
 "cells": [
  {
   "cell_type": "markdown",
   "metadata": {},
   "source": [
    "# Time/Space Complexity - Intro to Data Structures (User Defined)\n",
    "\n",
    "### Topics to discuss today:\n",
    "\n",
    "<ul>\n",
    "    <li>Time and Space Complexity - What is it/How do we measure it</li>\n",
    "    <li>Asymptotic Analysis</li>\n",
    "    <li><strong>Data Structures</strong></li>\n",
    "</ul>\n",
    "\n",
    "### Data Structures to discuss:\n",
    "- Arrays\n",
    "- Stacks\n",
    "- Queues\n",
    "- Linked Lists\n",
    "    - Singly Linked Lists\n",
    "    - Traversing A Linked List\n",
    "    - Finding a node in a linked list\n",
    "    - Adding to a linked list\n"
   ]
  },
  {
   "cell_type": "markdown",
   "metadata": {},
   "source": [
    "## Time and Space Complexity\n",
    "\n",
    "#### What is it?\n",
    "\n",
    "Time and space complexity is the measure of how much time a given action(function) will take to solve a problem. In the same fashion, we determine how much a given data structure will need in terms of memory allocation. A problem can have multiple solutions and finding the optimal solution for the problem needs to be analyzed in time and space.\n",
    "\n",
    "#### How do we measure Time and Space Complexity?\n",
    "\n",
    "In order to measure time and space complexity we use Asymptotic analysis. The reason for this is because we need a way to measure different algorithms (functions) based on the size of their inputs in a mathmatical way. For example, we could have a function that is computed as f(n) and another that is g(n^2). All things around the function staying constant, the only thing that changes is the size of the input. Below is the chart that shows the different Asymptotic analysis formats. "
   ]
  },
  {
   "cell_type": "markdown",
   "metadata": {},
   "source": [
    "<table style=\"text-align:center;\" class=\"table table-bordered\">\n",
    "<tbody><tr>\n",
    "<td>constant</td>\n",
    "<td>−</td>\n",
    "<td>Ο(1)</td>\n",
    "</tr>\n",
    "<tr>\n",
    "<td>logarithmic</td>\n",
    "<td>−</td>\n",
    "<td>Ο(log n)</td>\n",
    "</tr>\n",
    "<tr>\n",
    "<td>linear</td>\n",
    "<td>−</td>\n",
    "<td>Ο(n)</td>\n",
    "</tr>\n",
    "<tr>\n",
    "<td>Linear Logarithmic</td>\n",
    "<td>−</td>\n",
    "<td>Ο(n log n)</td>\n",
    "</tr>\n",
    "<tr>\n",
    "<td>quadratic</td>\n",
    "<td>−</td>\n",
    "<td>Ο(n<sup>2</sup>)</td>\n",
    "</tr>\n",
    "<tr>\n",
    "<td>cubic</td>\n",
    "<td>−</td>\n",
    "<td>Ο(n<sup>3</sup>)</td>\n",
    "</tr>\n",
    "<tr>\n",
    "<td>polynomial</td>\n",
    "<td>−</td>\n",
    "<td>n<sup>Ο(1)</sup></td>\n",
    "</tr>\n",
    "<tr>\n",
    "<td>exponential</td>\n",
    "<td>−</td>\n",
    "<td>2<sup>Ο(n)</sup></td>\n",
    "</tr>\n",
    "</tbody></table>"
   ]
  },
  {
   "cell_type": "code",
   "execution_count": 17,
   "metadata": {},
   "outputs": [
    {
     "name": "stdout",
     "output_type": "stream",
     "text": [
      "1\n",
      "2\n",
      "3\n",
      "4\n",
      "5\n"
     ]
    }
   ],
   "source": [
    "# constant time O(1)\n",
    "def add_nums(num1, num2):\n",
    "    return num1 + num2 # only performs one operation regardless of arguments passed on\n",
    "\n",
    "# Logarythmic O(log n)\n",
    "# Breaking a list into two parts, and consolidating the search for the target\n",
    "# Never iterating through the entirety of the list\n",
    "# and larger numbers need to be on the right\n",
    "def binary_search(array,target):\n",
    "    left = 0\n",
    "    right = len(array) - 1\n",
    "    while left <= right:\n",
    "        middle = (left + right) // 2\n",
    "        potential_match = array[middle]\n",
    "        if target == potential_match:\n",
    "            return f'The index is...[middle]'\n",
    "        elif target < potential_match:\n",
    "            right = middle -1\n",
    "        else:\n",
    "            left = middle + 1\n",
    "    return -1\n",
    "# linear line -O(n)\n",
    "arr = [1,2,3,4,5]\n",
    "def print_num(alist):\n",
    "    for num in alist:\n",
    "        print(num)\n",
    "print_num(arr)\n",
    "\n",
    "# Worst Case\n",
    "# Not all lists we pass into this function are going to start with 1\n",
    "# so worst case, either there is no 1 or 1 is at the back of the list\n",
    "def find_num(alist):\n",
    "    for num in alist:\n",
    "        if num == 1:\n",
    "            return \"A One\"\n",
    "\n",
    "# Quadratic time O(n^2)\n",
    "# nested loops\n",
    "# For each iteration of the first list we have to traverse the entiretey of the secong list\n",
    "def printz_num2(arr1, arr2):\n",
    "    for num2 in arr1:\n",
    "        for num2 in arr2:\n",
    "            print(num1 + num2)\n",
    "arr1 = [1,2,3,4,5,6,7,8]\n",
    "arr2 = [9,10,11,12,13,14,15,16]\n",
    "\n",
    "# Cubic time O(n^3)\n",
    "# triply nested linear operation\n",
    "def print_num3(arr1, arr2, arr3):\n",
    "    for num1 in arr1:\n",
    "        for num2 in arr2:\n",
    "            for num3 in arr3:\n",
    "                print(num1 + num2 + num3)\n",
    "arr1 = [1, 2, 3, 4, 5, 6, 7, 8]\n",
    "arr2 = [9, 10, 11, 12, 13, 14, 15, 16]\n",
    "arr3 = [9, 10, 11, 12, 13, 14, 15, 16]"
   ]
  },
  {
   "cell_type": "markdown",
   "metadata": {},
   "source": [
    "## Arrays"
   ]
  },
  {
   "cell_type": "markdown",
   "metadata": {},
   "source": [
    "In python we benefit from the dynamic array which means the block of memory will expand as needed for the given input to the array. In traditional arrays (depending on the type of operating system) we will usually store our inputs in 4 or 8 consecutive blocks of memory. Below is a diagram of how that looks under the hood:\n",
    "\n",
    "## Which in python looks like this:\n",
    "\n",
    "\n",
    "<br><img src=\"http://www.cs.emory.edu/~cheung/Courses/170/Syllabus/09/FIGS/array02x.gif\" style=\"height:300px; width:450px;\"><br>"
   ]
  },
  {
   "cell_type": "markdown",
   "metadata": {},
   "source": [
    "### Let's take a look at some of the time and space analysis of arrays"
   ]
  },
  {
   "cell_type": "code",
   "execution_count": 21,
   "metadata": {},
   "outputs": [
    {
     "name": "stdout",
     "output_type": "stream",
     "text": [
      "Its here\n",
      "[1, 2, 20, 4, 5]\n"
     ]
    }
   ],
   "source": [
    "# Indecting an array (list)\n",
    "# Continue time and space O(1)\n",
    "# arr[i]\n",
    "# Constant or both because the single operation is grabbing te item at the index we are grabbing\n",
    "# Then we set a variable to that value ( in this case it is a integer)\n",
    "my_list = [1, 2, 3, 4, 5]\n",
    "my_num = my_list [3]\n",
    "\n",
    "# searching through an array\n",
    "# linear time O(n) in Constant space O(1)\n",
    "# We need to check each item in the list to see if the thing we're searching for is there\n",
    "# Constant space because no variables are set at all \n",
    "if 1 in my_list:\n",
    "    print(\"Its here\")\n",
    "\n",
    "# Copying my array\n",
    "# Linear time O(n) and Linear space O(n)\n",
    "my_list_copy = my_list [:]\n",
    "empty_list = []\n",
    "for num in my_list:\n",
    "    empty_list.append(num)\n",
    "\n",
    "# Setting an index\n",
    "my_list[2] = 20\n",
    "print(my_list)"
   ]
  },
  {
   "cell_type": "markdown",
   "metadata": {},
   "source": [
    "## Stacks and Queues\n",
    "\n",
    "** Stacks ** as the name suggests is a data structure that allows for data to follow the Last In First Out priciple(LIFO). Think of a stack of pancakes for example. To get the first pancake you would  start with the top and go down.\n",
    "\n",
    "##### Searching through a stack will be Linear Time O(n) - Constant Space O(1)\n",
    "##### Selecting the last item will be done in Constant Time O(1) - Constant Space O(1)\n",
    "##### Adding to the stack should take Constant Time O(1) - Constant Space O(1)\n",
    "\n",
    "** Queues ** are similar but in this case follow the First In First Out principle(FIFO). Think of this as a line in a black friday sale. The first person camped out for the big screen tv is the first to get it.\n",
    "\n",
    "##### Searching through a queue will be Linear Time O(n) - Constant Space O(1)\n",
    "##### Selecting the first item will be done in Constant Time O(1) - Constant Space O(1)\n",
    "##### Adding to the queue should take Constant Time O(1) - Constant Space O(1)"
   ]
  },
  {
   "cell_type": "code",
   "execution_count": 28,
   "metadata": {},
   "outputs": [
    {
     "name": "stdout",
     "output_type": "stream",
     "text": [
      "['pancake']\n",
      "['pancake', 'pancake2']\n",
      "['pancake', 'pancake2', 'pancake3']\n",
      "['pancake', 'pancake2', 'pancake3', 'pancake4']\n",
      "pancake4\n",
      "['pancake', 'pancake2', 'pancake3']\n",
      "pancake3\n",
      "['pancake', 'pancake2']\n"
     ]
    }
   ],
   "source": [
    "# Stacks\n",
    "# Last in first out - LIFO\n",
    "stack = ['pancake']\n",
    "print(stack)\n",
    "stack.append('pancake2')\n",
    "print(stack)\n",
    "stack.append('pancake3')\n",
    "print(stack)\n",
    "stack.append('pancake4')\n",
    "print(stack)\n",
    "print(stack.pop())\n",
    "print(stack)\n",
    "print(stack.pop())\n",
    "print(stack)"
   ]
  },
  {
   "cell_type": "code",
   "execution_count": 31,
   "metadata": {},
   "outputs": [
    {
     "name": "stdout",
     "output_type": "stream",
     "text": [
      "['shopper']\n",
      "['shopper', 'shopper2']\n",
      "['shopper', 'shopper2', 'shopper3']\n"
     ]
    },
    {
     "ename": "AttributeError",
     "evalue": "'builtin_function_or_method' object has no attribute 'append'",
     "output_type": "error",
     "traceback": [
      "\u001b[1;31m---------------------------------------------------------------------------\u001b[0m",
      "\u001b[1;31mAttributeError\u001b[0m                            Traceback (most recent call last)",
      "Cell \u001b[1;32mIn[31], line 9\u001b[0m\n\u001b[0;32m      7\u001b[0m queue\u001b[38;5;241m.\u001b[39mappend(\u001b[38;5;124m'\u001b[39m\u001b[38;5;124mshopper3\u001b[39m\u001b[38;5;124m'\u001b[39m)\n\u001b[0;32m      8\u001b[0m \u001b[38;5;28mprint\u001b[39m(queue)\n\u001b[1;32m----> 9\u001b[0m \u001b[38;5;28;43mprint\u001b[39;49m\u001b[38;5;241;43m.\u001b[39;49m\u001b[43mappend\u001b[49m(\u001b[38;5;124m'\u001b[39m\u001b[38;5;124mshopper4\u001b[39m\u001b[38;5;124m'\u001b[39m)\n\u001b[0;32m     10\u001b[0m \u001b[38;5;28mprint\u001b[39m(queue)\n\u001b[0;32m     11\u001b[0m \u001b[38;5;28mprint\u001b[39m(queue\u001b[38;5;241m.\u001b[39mpop(\u001b[38;5;241m0\u001b[39m))\n",
      "\u001b[1;31mAttributeError\u001b[0m: 'builtin_function_or_method' object has no attribute 'append'"
     ]
    }
   ],
   "source": [
    "# queues\n",
    "# first in first out method\n",
    "queue = ['shopper']\n",
    "print(queue)\n",
    "queue.append('shopper2')\n",
    "print(queue)\n",
    "queue.append('shopper3')\n",
    "print(queue)\n",
    "print.append('shopper4')\n",
    "print(queue)\n",
    "print(queue.pop(0))"
   ]
  },
  {
   "cell_type": "code",
   "execution_count": 32,
   "metadata": {},
   "outputs": [
    {
     "name": "stdout",
     "output_type": "stream",
     "text": [
      "deque([])\n",
      "deque(['pancake1'])\n",
      "deque(['pancake2', 'pancake1'])\n",
      "deque(['pancake3', 'pancake2', 'pancake1'])\n",
      "deque(['pancake4', 'pancake3', 'pancake2', 'pancake1'])\n",
      "pancake4\n",
      "deque(['pancake3', 'pancake2', 'pancake1'])\n",
      "pancake3\n",
      "deque(['pancake2', 'pancake1'])\n"
     ]
    }
   ],
   "source": [
    "from collections import deque\n",
    "#stack \n",
    "#first pancake in, last pancake out\n",
    "\n",
    "stack = deque()\n",
    "print(stack)\n",
    "stack.appendleft(\"pancake1\")\n",
    "print(stack)\n",
    "stack.appendleft(\"pancake2\")\n",
    "print(stack)\n",
    "stack.appendleft(\"pancake3\")\n",
    "print(stack)\n",
    "stack.appendleft(\"pancake4\")\n",
    "print(stack)\n",
    "print(stack.popleft())\n",
    "print(stack)\n",
    "print(stack.popleft())\n",
    "print(stack)"
   ]
  },
  {
   "cell_type": "code",
   "execution_count": 33,
   "metadata": {},
   "outputs": [
    {
     "ename": "NameError",
     "evalue": "name 'dque' is not defined",
     "output_type": "error",
     "traceback": [
      "\u001b[1;31m---------------------------------------------------------------------------\u001b[0m",
      "\u001b[1;31mNameError\u001b[0m                                 Traceback (most recent call last)",
      "Cell \u001b[1;32mIn[33], line 4\u001b[0m\n\u001b[0;32m      1\u001b[0m \u001b[38;5;28;01mfrom\u001b[39;00m \u001b[38;5;21;01mcollections\u001b[39;00m \u001b[38;5;28;01mimport\u001b[39;00m deque\n\u001b[0;32m      2\u001b[0m \u001b[38;5;66;03m# queue\u001b[39;00m\n\u001b[0;32m      3\u001b[0m \u001b[38;5;66;03m# First shopper in, first shopper out\u001b[39;00m\n\u001b[1;32m----> 4\u001b[0m queue \u001b[38;5;241m=\u001b[39m \u001b[43mdque\u001b[49m()\n\u001b[0;32m      5\u001b[0m queue\u001b[38;5;241m.\u001b[39mappendleft(\u001b[38;5;124m'\u001b[39m\u001b[38;5;124mshopper\u001b[39m\u001b[38;5;124m'\u001b[39m)\n\u001b[0;32m      6\u001b[0m \u001b[38;5;28mprint\u001b[39m(queue)\n",
      "\u001b[1;31mNameError\u001b[0m: name 'dque' is not defined"
     ]
    }
   ],
   "source": [
    "from collections import deque\n",
    "# queue\n",
    "# First shopper in, first shopper out\n",
    "queue = dque()\n",
    "queue.appendleft('shopper')\n",
    "print(queue)\n",
    "queue.appendleft('shopper2')\n",
    "print(queue)\n",
    "queue.appendleft('shopper3')\n",
    "print(queue)\n",
    "queue.appenedleft('shopper4')\n",
    "print(queue)\n",
    "\n",
    "print(queue.pop())\n",
    "print(queue)\n",
    "print(queue.pop())"
   ]
  },
  {
   "cell_type": "markdown",
   "metadata": {},
   "source": [
    "# Sum of Parts Time Compelxity Exercise"
   ]
  },
  {
   "cell_type": "code",
   "execution_count": null,
   "metadata": {},
   "outputs": [],
   "source": [
    "#sum of parts\n",
    "https://www.codewars.com/kata/5ce399e0047a45001c853c2b"
   ]
  },
  {
   "cell_type": "markdown",
   "metadata": {},
   "source": [
    "## Linked List (Data Structure)\n",
    "\n",
    "A linked list is created by using the node class. We create a Node object and create another class to use this node object. We pass the appropriate values thorugh the node object to point the to the next data elements.\n",
    "\n",
    "There are some advantages and disadvantages with this data structure. **Advantages** Linked Lists can save memory because they can be flexibile with memory management which saves memory. **Disadvantages** Finding or adding to the list requires traversing the entire list."
   ]
  },
  {
   "cell_type": "code",
   "execution_count": 49,
   "metadata": {},
   "outputs": [],
   "source": [
    "# complete implementation of a link list\n",
    "# Node class\n",
    "# Linked list class\n",
    "\n",
    "#Node class\n",
    "class node():\n",
    "    def __init__(self, value):\n",
    "        self.value = value\n",
    "        self.next = None\n",
    "\n",
    "\n",
    "class LinkedList():\n",
    "    def __init__(self):\n",
    "        self.head = None\n",
    "\n",
    "    #pushOn - place the item at the head(beggining) of the list\n",
    "    def pushOn(self, new_value):\n",
    "        # Create a node object using the new value parameter as the value of our node class\n",
    "        new_node = Node(new_value)\n",
    "        new_node.next = self.head\n",
    "        self.head = new_node\n",
    "\n",
    "        #inserting a new node by position (or index)\n",
    "        def insertknownposition(self, position, new_value):\n",
    "            # create the new node object\n",
    "            new_node = Node(new_value)\n",
    "\n",
    "        # Starting at the head oof the linked list\n",
    "        current_node = self.head\n",
    "        next_node = current_node.next\n",
    "        # .next and .head are attributes of our current object\n",
    "\n",
    "\n",
    "        #traversing linked list until we get to our desired position\n",
    "        for i in range( position - 1):\n",
    "            current_nnode = next_node\n",
    "            next_node = current_node.next\n",
    "\n",
    "        new_node.next = current_node.next\n",
    "        current_node.next = new_node\n",
    "\n",
    "    #delete a node\n",
    "    def deleteNode(self,value):\n",
    "        # Start at the beggining of the link list\n",
    "        current_node = self.head\n",
    "        next_node = current_node.next\n",
    "\n",
    "        #traverse until we find the node that is the same as our value\n",
    "        while current_node.value != value and next_node.next:\n",
    "            print(current_node.value)\n",
    "            prev_node = current_node\n",
    "            current_node = next_node\n",
    "            next_node = current_node.next\n",
    "\n",
    "        # If we've reached the end of our linked list and the value was not found\n",
    "        if not next_node.next and current_node.value != value:\n",
    "            return \"Value does not exist\"\n",
    "\n",
    "        # Setting the previous nodes next to the next node and delete your current node\n",
    "        prev_node.next = next_node\n",
    "        del current_node\n",
    "\n",
    "        #append (add) a new node to the back tail of the linked list\n",
    "        def append(self, new_value):\n",
    "            #create new node object\n",
    "            new_node = Node(new_value)\n",
    "\n",
    "        # Check if the node is empty\n",
    "        # If it is, the new_node will become the head of the linked list\n",
    "        if self.head is None:\n",
    "            self.head = new_node\n",
    "\n",
    "\n",
    "        # If its not empty, traverse the linked list in search  of the tail\n",
    "        last = self.head\n",
    "\n",
    "\n",
    "        # Change the current last to our new_value, continue check for an empty next\n",
    "        while last.next:\n",
    "            last = last.next\n",
    "\n",
    "        # Change the last node object to point to the new_node value\n",
    "        last.next = new_node\n",
    "\n",
    "\n",
    "        # Traversing our link list- move through the list\n",
    "        def traverse(self):\n",
    "            temp = self.head\n",
    "\n",
    "            # while temp is not none --> keep moving throughh the list until we find a night\n",
    "            while temp:\n",
    "                print(temp.value)\n",
    "                temp = temp.next\n",
    "                print('end of list')"
   ]
  },
  {
   "cell_type": "code",
   "execution_count": 50,
   "metadata": {},
   "outputs": [
    {
     "ename": "NameError",
     "evalue": "name 'Linkedlist' is not defined",
     "output_type": "error",
     "traceback": [
      "\u001b[1;31m---------------------------------------------------------------------------\u001b[0m",
      "\u001b[1;31mNameError\u001b[0m                                 Traceback (most recent call last)",
      "Cell \u001b[1;32mIn[50], line 1\u001b[0m\n\u001b[1;32m----> 1\u001b[0m weekdays_list \u001b[38;5;241m=\u001b[39m \u001b[43mLinkedlist\u001b[49m()\n\u001b[0;32m      2\u001b[0m weekdays_list\u001b[38;5;241m.\u001b[39mpushOn(\u001b[38;5;124m'\u001b[39m\u001b[38;5;124mMonday\u001b[39m\u001b[38;5;124m'\u001b[39m)\n",
      "\u001b[1;31mNameError\u001b[0m: name 'Linkedlist' is not defined"
     ]
    }
   ],
   "source": [
    "weekdays_list = Linkedlist()\n",
    "weekdays_list.pushOn('Monday')\n",
    "weekdays_list.append_('Wednesday')\n",
    "weekdays_list.traverse()\n",
    "weekdays_list.insertknownPosition(1, 'Tuesday')\n",
    "print(\\'n')\n",
    "weekday_list.append_('Friday')\n",
    "weekday_list.traverse()\n",
    "print(\\'n')"
   ]
  },
  {
   "cell_type": "code",
   "execution_count": null,
   "metadata": {},
   "outputs": [],
   "source": [
    "# Week 4 Day 3 Homework\n",
    "\n",
    "#----Problem 1----\n",
    "def number_to_string(num):\n",
    "    return str(num)\n",
    "    \n",
    "#----Solution 1----\n",
    "Linear O(n) \n",
    "--Because it has the num function which can be any amount of numbers\n",
    "\n",
    "#----Problem 2----\n",
    "def lovefunc( flower1, flower2 ):\n",
    "    petal1 = flower1 % 2 # 0 even and 1 is odd\n",
    "    petal2 = flower2 % 2\n",
    "    \n",
    "    remainders = sorted([petal1, petal2])\n",
    "    # either [0,1], [1,1],[0,0]\n",
    "    return remainders == [0,1]\n",
    "#----Solution 2----\n",
    "Consant O(1)\n",
    "--The flower input doesnt change and is being divided,so it gives 1 'output' to the equation and the time complexity doesnt change because it takes the same amount of time to solve the equation \n",
    "\n",
    "\n",
    "#----Problem 3----\n",
    "def multiply(a, b):\n",
    "    return a * b\n",
    "\n",
    "#----Solution 3----\n",
    "Constant O(1)\n",
    "--Similar to number 2. We are multiplying, so there is 1 'output' and the time complexity doesnt change because it takes the same amount of time to multiply 2 numbers\n"
   ]
  }
 ],
 "metadata": {
  "kernelspec": {
   "display_name": "Python 3 (ipykernel)",
   "language": "python",
   "name": "python3"
  },
  "language_info": {
   "codemirror_mode": {
    "name": "ipython",
    "version": 3
   },
   "file_extension": ".py",
   "mimetype": "text/x-python",
   "name": "python",
   "nbconvert_exporter": "python",
   "pygments_lexer": "ipython3",
   "version": "3.12.1"
  }
 },
 "nbformat": 4,
 "nbformat_minor": 4
}
